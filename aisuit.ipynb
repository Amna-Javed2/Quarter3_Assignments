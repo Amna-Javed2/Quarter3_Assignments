{
  "nbformat": 4,
  "nbformat_minor": 0,
  "metadata": {
    "colab": {
      "provenance": [],
      "toc_visible": true,
      "authorship_tag": "ABX9TyM3b+MhlITtX2XC16jvcUDK",
      "include_colab_link": true
    },
    "kernelspec": {
      "name": "python3",
      "display_name": "Python 3"
    },
    "language_info": {
      "name": "python"
    }
  },
  "cells": [
    {
      "cell_type": "markdown",
      "metadata": {
        "id": "view-in-github",
        "colab_type": "text"
      },
      "source": [
        "<a href=\"https://colab.research.google.com/github/Amna-Javed2/Quarter3_Assignments/blob/main/aisuit.ipynb\" target=\"_parent\"><img src=\"https://colab.research.google.com/assets/colab-badge.svg\" alt=\"Open In Colab\"/></a>"
      ]
    },
    {
      "cell_type": "code",
      "execution_count": 26,
      "metadata": {
        "colab": {
          "base_uri": "https://localhost:8080/"
        },
        "id": "7tUw8800_XCc",
        "outputId": "11e61f2d-218e-4448-c3ec-13bab3827428"
      },
      "outputs": [
        {
          "output_type": "stream",
          "name": "stdout",
          "text": [
            "Requirement already satisfied: groq in /usr/local/lib/python3.10/dist-packages (0.13.1)\n",
            "Requirement already satisfied: anyio<5,>=3.5.0 in /usr/local/lib/python3.10/dist-packages (from groq) (3.7.1)\n",
            "Requirement already satisfied: distro<2,>=1.7.0 in /usr/local/lib/python3.10/dist-packages (from groq) (1.9.0)\n",
            "Requirement already satisfied: httpx<1,>=0.23.0 in /usr/local/lib/python3.10/dist-packages (from groq) (0.28.1)\n",
            "Requirement already satisfied: pydantic<3,>=1.9.0 in /usr/local/lib/python3.10/dist-packages (from groq) (2.10.3)\n",
            "Requirement already satisfied: sniffio in /usr/local/lib/python3.10/dist-packages (from groq) (1.3.1)\n",
            "Requirement already satisfied: typing-extensions<5,>=4.10 in /usr/local/lib/python3.10/dist-packages (from groq) (4.12.2)\n",
            "Requirement already satisfied: idna>=2.8 in /usr/local/lib/python3.10/dist-packages (from anyio<5,>=3.5.0->groq) (3.10)\n",
            "Requirement already satisfied: exceptiongroup in /usr/local/lib/python3.10/dist-packages (from anyio<5,>=3.5.0->groq) (1.2.2)\n",
            "Requirement already satisfied: certifi in /usr/local/lib/python3.10/dist-packages (from httpx<1,>=0.23.0->groq) (2024.12.14)\n",
            "Requirement already satisfied: httpcore==1.* in /usr/local/lib/python3.10/dist-packages (from httpx<1,>=0.23.0->groq) (1.0.7)\n",
            "Requirement already satisfied: h11<0.15,>=0.13 in /usr/local/lib/python3.10/dist-packages (from httpcore==1.*->httpx<1,>=0.23.0->groq) (0.14.0)\n",
            "Requirement already satisfied: annotated-types>=0.6.0 in /usr/local/lib/python3.10/dist-packages (from pydantic<3,>=1.9.0->groq) (0.7.0)\n",
            "Requirement already satisfied: pydantic-core==2.27.1 in /usr/local/lib/python3.10/dist-packages (from pydantic<3,>=1.9.0->groq) (2.27.1)\n"
          ]
        }
      ],
      "source": [
        "pip install groq"
      ]
    },
    {
      "cell_type": "code",
      "source": [
        "pip install aisuite"
      ],
      "metadata": {
        "colab": {
          "base_uri": "https://localhost:8080/"
        },
        "id": "VgvudjKtKF5s",
        "outputId": "dd1a0281-cf0a-4dee-ff55-a5d82e19cc68"
      },
      "execution_count": 27,
      "outputs": [
        {
          "output_type": "stream",
          "name": "stdout",
          "text": [
            "Requirement already satisfied: aisuite in /usr/local/lib/python3.10/dist-packages (0.1.6)\n"
          ]
        }
      ]
    },
    {
      "cell_type": "code",
      "source": [
        "import os\n",
        "GROQ_API_KEY = os.environ['GROQ_API_KEY']"
      ],
      "metadata": {
        "id": "GaF43CWvMQ9M"
      },
      "execution_count": 42,
      "outputs": []
    },
    {
      "cell_type": "markdown",
      "source": [],
      "metadata": {
        "id": "NS7RqsQEMQku"
      }
    },
    {
      "cell_type": "code",
      "source": [
        "import aisuite as ai\n",
        "client = ai.Client()\n",
        "\n",
        "provider = \"groq\"\n",
        "model_id = \"llama-3.2-3b-preview\"\n",
        "\n",
        "messages = [\n",
        "    # {\"role\": \"system\", \"content\": \"You are a helpful assistant.\"},\n",
        "    {\"role\": \"user\", \"content\": \"What did you know about imran khan in pakistan ?\"},\n",
        "]\n",
        "\n",
        "response = client.chat.completions.create(\n",
        "    model=f\"{provider}:{model_id}\",\n",
        "    messages=messages,\n",
        ")\n",
        "\n",
        "print(response.choices[0].message.content)"
      ],
      "metadata": {
        "colab": {
          "base_uri": "https://localhost:8080/"
        },
        "id": "gAXl4v54KffK",
        "outputId": "7b377e49-9eb8-4177-836a-1ed64484dad2"
      },
      "execution_count": 43,
      "outputs": [
        {
          "output_type": "stream",
          "name": "stdout",
          "text": [
            "Imran Khan, also known as Imran Khan Niazi, is a former cricketer, philanthropist, and politician who served as the 22nd Prime Minister of Pakistan from 2018 to 2022. Here's a brief overview of his background and tenure in Pakistan:\n",
            "\n",
            "**Early Life and Cricket Career**\n",
            "\n",
            "Imran Khan was born on October 5, 1952, in Lahore, Punjab, Pakistan. He is the son of Zufullah Khan, a former judge of the Supreme Court of Pakistan. Khan is a cricket legend and captained the Pakistan national cricket team from 1982 to 1986, leading the team to a World Cup victory in 1992. He was also the captain of the team in the 1992 Indian Premier League.\n",
            "\n",
            "**Philanthropy and Politics**\n",
            "\n",
            "After retiring from cricket, Khan became involved in politics and founded the Pakistan Tehreek-e-Insaf (PTI) party in 1996. He served as a member of the National Assembly from 2002 to 2007. Khan served as the Chairman of the Pakistan Cricket Board (PCB) from 2009 to 2015.\n",
            "\n",
            "**Prime Minister of Pakistan**\n",
            "\n",
            "Imran Khan won the 2018 general election, becoming the 22nd Prime Minister of Pakistan. He served as Prime Minister until April 2022, when the government was dissolved after a no-confidence vote.\n",
            "\n",
            "**Key Policies and Achievements**\n",
            "\n",
            "During his tenure, Khan implemented several policies and initiatives, including:\n",
            "\n",
            "1. Anti-corruption campaign: Khan launched an anti-corruption campaign and introduced a new electoral system, Naya Pakistan.\n",
            "2. Women's rights: Khan introduced several policies to promote women's rights in Pakistan, including equal financial support and child education for women.\n",
            "3. National Curriculum: Khan introduced a new national curriculum aimed at making education more accessible and standardized.\n",
            "4. Anti-terror laws: Khan introduced several laws to counter terrorism, including a new anti-terrorism law.\n",
            "\n",
            "**Controversies**\n",
            "\n",
            "During his tenure, Khan faced several controversies, including:\n",
            "\n",
            "1. Military backing: Critics accused Khan of having a military backing, which led to tensions with the US and other Western countries.\n",
            "2. Imran Khan Khattak dispute: Khan, then a cricketer, was embroiled in a dispute with a regional politician, Khalid Khattak.\n",
            "3. Al-Qaeda links: Khan was criticized for his past connections with Al-Qaeda.\n",
            "\n",
            "**Post-Prime Ministership**\n",
            "\n",
            "After the dissolution of the PTI government, Khan remains active in politics and is believed to be planning another election. He is still the chairman of the Pakistan Tehreek-e-Insaf party.\n",
            "\n",
            "This is a brief overview of Imran Khan's background and tenure in Pakistan. Let me know if you have any further questions or if you'd like more information on specific aspects of his life or career.\n"
          ]
        }
      ]
    }
  ]
}