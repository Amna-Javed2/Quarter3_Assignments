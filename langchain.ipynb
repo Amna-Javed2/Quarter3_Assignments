{
  "nbformat": 4,
  "nbformat_minor": 0,
  "metadata": {
    "colab": {
      "provenance": [],
      "authorship_tag": "ABX9TyPw6mxrKFoez7Ao4QGzqrzd",
      "include_colab_link": true
    },
    "kernelspec": {
      "name": "python3",
      "display_name": "Python 3"
    },
    "language_info": {
      "name": "python"
    }
  },
  "cells": [
    {
      "cell_type": "markdown",
      "metadata": {
        "id": "view-in-github",
        "colab_type": "text"
      },
      "source": [
        "<a href=\"https://colab.research.google.com/github/Amna-Javed2/Quarter3_Assignments/blob/main/langchain.ipynb\" target=\"_parent\"><img src=\"https://colab.research.google.com/assets/colab-badge.svg\" alt=\"Open In Colab\"/></a>"
      ]
    },
    {
      "cell_type": "code",
      "execution_count": 9,
      "metadata": {
        "colab": {
          "base_uri": "https://localhost:8080/"
        },
        "id": "_YlwoiTjeDKf",
        "outputId": "8455a0d6-9392-4ccd-f16e-4bdf0677c0d6"
      },
      "outputs": [
        {
          "output_type": "stream",
          "name": "stdout",
          "text": [
            "Requirement already satisfied: langchain_google_genai in /usr/local/lib/python3.10/dist-packages (2.0.7)\n",
            "Requirement already satisfied: filetype<2.0.0,>=1.2.0 in /usr/local/lib/python3.10/dist-packages (from langchain_google_genai) (1.2.0)\n",
            "Requirement already satisfied: google-generativeai<0.9.0,>=0.8.0 in /usr/local/lib/python3.10/dist-packages (from langchain_google_genai) (0.8.3)\n",
            "Requirement already satisfied: langchain-core<0.4,>=0.3.15 in /usr/local/lib/python3.10/dist-packages (from langchain_google_genai) (0.3.25)\n",
            "Requirement already satisfied: pydantic<3,>=2 in /usr/local/lib/python3.10/dist-packages (from langchain_google_genai) (2.10.3)\n",
            "Requirement already satisfied: google-ai-generativelanguage==0.6.10 in /usr/local/lib/python3.10/dist-packages (from google-generativeai<0.9.0,>=0.8.0->langchain_google_genai) (0.6.10)\n",
            "Requirement already satisfied: google-api-core in /usr/local/lib/python3.10/dist-packages (from google-generativeai<0.9.0,>=0.8.0->langchain_google_genai) (2.19.2)\n",
            "Requirement already satisfied: google-api-python-client in /usr/local/lib/python3.10/dist-packages (from google-generativeai<0.9.0,>=0.8.0->langchain_google_genai) (2.155.0)\n",
            "Requirement already satisfied: google-auth>=2.15.0 in /usr/local/lib/python3.10/dist-packages (from google-generativeai<0.9.0,>=0.8.0->langchain_google_genai) (2.27.0)\n",
            "Requirement already satisfied: protobuf in /usr/local/lib/python3.10/dist-packages (from google-generativeai<0.9.0,>=0.8.0->langchain_google_genai) (4.25.5)\n",
            "Requirement already satisfied: tqdm in /usr/local/lib/python3.10/dist-packages (from google-generativeai<0.9.0,>=0.8.0->langchain_google_genai) (4.67.1)\n",
            "Requirement already satisfied: typing-extensions in /usr/local/lib/python3.10/dist-packages (from google-generativeai<0.9.0,>=0.8.0->langchain_google_genai) (4.12.2)\n",
            "Requirement already satisfied: proto-plus<2.0.0dev,>=1.22.3 in /usr/local/lib/python3.10/dist-packages (from google-ai-generativelanguage==0.6.10->google-generativeai<0.9.0,>=0.8.0->langchain_google_genai) (1.25.0)\n",
            "Requirement already satisfied: PyYAML>=5.3 in /usr/local/lib/python3.10/dist-packages (from langchain-core<0.4,>=0.3.15->langchain_google_genai) (6.0.2)\n",
            "Requirement already satisfied: jsonpatch<2.0,>=1.33 in /usr/local/lib/python3.10/dist-packages (from langchain-core<0.4,>=0.3.15->langchain_google_genai) (1.33)\n",
            "Requirement already satisfied: langsmith<0.3,>=0.1.125 in /usr/local/lib/python3.10/dist-packages (from langchain-core<0.4,>=0.3.15->langchain_google_genai) (0.2.3)\n",
            "Requirement already satisfied: packaging<25,>=23.2 in /usr/local/lib/python3.10/dist-packages (from langchain-core<0.4,>=0.3.15->langchain_google_genai) (24.2)\n",
            "Requirement already satisfied: tenacity!=8.4.0,<10.0.0,>=8.1.0 in /usr/local/lib/python3.10/dist-packages (from langchain-core<0.4,>=0.3.15->langchain_google_genai) (9.0.0)\n",
            "Requirement already satisfied: annotated-types>=0.6.0 in /usr/local/lib/python3.10/dist-packages (from pydantic<3,>=2->langchain_google_genai) (0.7.0)\n",
            "Requirement already satisfied: pydantic-core==2.27.1 in /usr/local/lib/python3.10/dist-packages (from pydantic<3,>=2->langchain_google_genai) (2.27.1)\n",
            "Requirement already satisfied: googleapis-common-protos<2.0.dev0,>=1.56.2 in /usr/local/lib/python3.10/dist-packages (from google-api-core->google-generativeai<0.9.0,>=0.8.0->langchain_google_genai) (1.66.0)\n",
            "Requirement already satisfied: requests<3.0.0.dev0,>=2.18.0 in /usr/local/lib/python3.10/dist-packages (from google-api-core->google-generativeai<0.9.0,>=0.8.0->langchain_google_genai) (2.32.3)\n",
            "Requirement already satisfied: cachetools<6.0,>=2.0.0 in /usr/local/lib/python3.10/dist-packages (from google-auth>=2.15.0->google-generativeai<0.9.0,>=0.8.0->langchain_google_genai) (5.5.0)\n",
            "Requirement already satisfied: pyasn1-modules>=0.2.1 in /usr/local/lib/python3.10/dist-packages (from google-auth>=2.15.0->google-generativeai<0.9.0,>=0.8.0->langchain_google_genai) (0.4.1)\n",
            "Requirement already satisfied: rsa<5,>=3.1.4 in /usr/local/lib/python3.10/dist-packages (from google-auth>=2.15.0->google-generativeai<0.9.0,>=0.8.0->langchain_google_genai) (4.9)\n",
            "Requirement already satisfied: jsonpointer>=1.9 in /usr/local/lib/python3.10/dist-packages (from jsonpatch<2.0,>=1.33->langchain-core<0.4,>=0.3.15->langchain_google_genai) (3.0.0)\n",
            "Requirement already satisfied: httpx<1,>=0.23.0 in /usr/local/lib/python3.10/dist-packages (from langsmith<0.3,>=0.1.125->langchain-core<0.4,>=0.3.15->langchain_google_genai) (0.28.1)\n",
            "Requirement already satisfied: orjson<4.0.0,>=3.9.14 in /usr/local/lib/python3.10/dist-packages (from langsmith<0.3,>=0.1.125->langchain-core<0.4,>=0.3.15->langchain_google_genai) (3.10.12)\n",
            "Requirement already satisfied: requests-toolbelt<2.0.0,>=1.0.0 in /usr/local/lib/python3.10/dist-packages (from langsmith<0.3,>=0.1.125->langchain-core<0.4,>=0.3.15->langchain_google_genai) (1.0.0)\n",
            "Requirement already satisfied: httplib2<1.dev0,>=0.19.0 in /usr/local/lib/python3.10/dist-packages (from google-api-python-client->google-generativeai<0.9.0,>=0.8.0->langchain_google_genai) (0.22.0)\n",
            "Requirement already satisfied: google-auth-httplib2<1.0.0,>=0.2.0 in /usr/local/lib/python3.10/dist-packages (from google-api-python-client->google-generativeai<0.9.0,>=0.8.0->langchain_google_genai) (0.2.0)\n",
            "Requirement already satisfied: uritemplate<5,>=3.0.1 in /usr/local/lib/python3.10/dist-packages (from google-api-python-client->google-generativeai<0.9.0,>=0.8.0->langchain_google_genai) (4.1.1)\n",
            "Requirement already satisfied: grpcio<2.0dev,>=1.33.2 in /usr/local/lib/python3.10/dist-packages (from google-api-core[grpc]!=2.0.*,!=2.1.*,!=2.10.*,!=2.2.*,!=2.3.*,!=2.4.*,!=2.5.*,!=2.6.*,!=2.7.*,!=2.8.*,!=2.9.*,<3.0.0dev,>=1.34.1->google-ai-generativelanguage==0.6.10->google-generativeai<0.9.0,>=0.8.0->langchain_google_genai) (1.68.1)\n",
            "Requirement already satisfied: grpcio-status<2.0.dev0,>=1.33.2 in /usr/local/lib/python3.10/dist-packages (from google-api-core[grpc]!=2.0.*,!=2.1.*,!=2.10.*,!=2.2.*,!=2.3.*,!=2.4.*,!=2.5.*,!=2.6.*,!=2.7.*,!=2.8.*,!=2.9.*,<3.0.0dev,>=1.34.1->google-ai-generativelanguage==0.6.10->google-generativeai<0.9.0,>=0.8.0->langchain_google_genai) (1.62.3)\n",
            "Requirement already satisfied: pyparsing!=3.0.0,!=3.0.1,!=3.0.2,!=3.0.3,<4,>=2.4.2 in /usr/local/lib/python3.10/dist-packages (from httplib2<1.dev0,>=0.19.0->google-api-python-client->google-generativeai<0.9.0,>=0.8.0->langchain_google_genai) (3.2.0)\n",
            "Requirement already satisfied: anyio in /usr/local/lib/python3.10/dist-packages (from httpx<1,>=0.23.0->langsmith<0.3,>=0.1.125->langchain-core<0.4,>=0.3.15->langchain_google_genai) (3.7.1)\n",
            "Requirement already satisfied: certifi in /usr/local/lib/python3.10/dist-packages (from httpx<1,>=0.23.0->langsmith<0.3,>=0.1.125->langchain-core<0.4,>=0.3.15->langchain_google_genai) (2024.12.14)\n",
            "Requirement already satisfied: httpcore==1.* in /usr/local/lib/python3.10/dist-packages (from httpx<1,>=0.23.0->langsmith<0.3,>=0.1.125->langchain-core<0.4,>=0.3.15->langchain_google_genai) (1.0.7)\n",
            "Requirement already satisfied: idna in /usr/local/lib/python3.10/dist-packages (from httpx<1,>=0.23.0->langsmith<0.3,>=0.1.125->langchain-core<0.4,>=0.3.15->langchain_google_genai) (3.10)\n",
            "Requirement already satisfied: h11<0.15,>=0.13 in /usr/local/lib/python3.10/dist-packages (from httpcore==1.*->httpx<1,>=0.23.0->langsmith<0.3,>=0.1.125->langchain-core<0.4,>=0.3.15->langchain_google_genai) (0.14.0)\n",
            "Requirement already satisfied: pyasn1<0.7.0,>=0.4.6 in /usr/local/lib/python3.10/dist-packages (from pyasn1-modules>=0.2.1->google-auth>=2.15.0->google-generativeai<0.9.0,>=0.8.0->langchain_google_genai) (0.6.1)\n",
            "Requirement already satisfied: charset-normalizer<4,>=2 in /usr/local/lib/python3.10/dist-packages (from requests<3.0.0.dev0,>=2.18.0->google-api-core->google-generativeai<0.9.0,>=0.8.0->langchain_google_genai) (3.4.0)\n",
            "Requirement already satisfied: urllib3<3,>=1.21.1 in /usr/local/lib/python3.10/dist-packages (from requests<3.0.0.dev0,>=2.18.0->google-api-core->google-generativeai<0.9.0,>=0.8.0->langchain_google_genai) (2.2.3)\n",
            "Requirement already satisfied: sniffio>=1.1 in /usr/local/lib/python3.10/dist-packages (from anyio->httpx<1,>=0.23.0->langsmith<0.3,>=0.1.125->langchain-core<0.4,>=0.3.15->langchain_google_genai) (1.3.1)\n",
            "Requirement already satisfied: exceptiongroup in /usr/local/lib/python3.10/dist-packages (from anyio->httpx<1,>=0.23.0->langsmith<0.3,>=0.1.125->langchain-core<0.4,>=0.3.15->langchain_google_genai) (1.2.2)\n"
          ]
        }
      ],
      "source": [
        "!pip install -q langchain google-generativeai\n",
        "!pip install langchain_google_genai"
      ]
    },
    {
      "cell_type": "code",
      "source": [
        "import os\n",
        "from langchain.prompts import PromptTemplate\n",
        "from langchain_google_genai import ChatGoogleGenerativeAI\n",
        "from langchain.chains import LLMChain\n",
        "from IPython.display import Image,  Markdown"
      ],
      "metadata": {
        "id": "jAwNSIkAfD-t"
      },
      "execution_count": 11,
      "outputs": []
    },
    {
      "cell_type": "code",
      "source": [
        "from google.colab import userdata\n",
        "GOOGLE_API_KEY: str = userdata.get('GOOGLE_API_KEY')\n",
        "if(GOOGLE_API_KEY):\n",
        "  print(\"Key found\")\n",
        "else:\n",
        "  print(\"Key not found\")"
      ],
      "metadata": {
        "colab": {
          "base_uri": "https://localhost:8080/"
        },
        "id": "xPbHrO4Bfi8O",
        "outputId": "9a6a975f-1aae-4d6e-edc9-dbf5cab53699"
      },
      "execution_count": 3,
      "outputs": [
        {
          "output_type": "stream",
          "name": "stdout",
          "text": [
            "Key found\n"
          ]
        }
      ]
    },
    {
      "cell_type": "code",
      "source": [
        "# Model Selection\n",
        "model: str = 'gemini-2.0-flash-exp'"
      ],
      "metadata": {
        "id": "x3sLjrZDgQ4w"
      },
      "execution_count": 5,
      "outputs": []
    },
    {
      "cell_type": "code",
      "source": [
        "llm = ChatGoogleGenerativeAI(\n",
        "    model = model,\n",
        "    google_api_key = GOOGLE_API_KEY\n",
        "    )"
      ],
      "metadata": {
        "id": "_ti7ZaGCgTW7"
      },
      "execution_count": 6,
      "outputs": []
    },
    {
      "cell_type": "code",
      "source": [
        "template = \"\"\"Question: {question}\n",
        "Answer: \"\"\"\n",
        "\n",
        "prompt = PromptTemplate.from_template(template)\n",
        "chain = LLMChain(\n",
        "    llm=llm,\n",
        "    prompt=prompt\n",
        "    )"
      ],
      "metadata": {
        "id": "C0Y83fAMg0V6"
      },
      "execution_count": 13,
      "outputs": []
    },
    {
      "cell_type": "code",
      "source": [
        "questions = [\n",
        "    \"What is the largest planet in our solar system?\",\n",
        "    \"Explain the process of photosynthesis.\",\n",
        "    \"Write a short story about a robot who learns to love.\"\n",
        "]\n",
        "\n",
        "for question in questions:\n",
        "    print(f\"User Question: {question}\")\n",
        "    response = chain.run(question)\n",
        "    display(Markdown(response))"
      ],
      "metadata": {
        "colab": {
          "base_uri": "https://localhost:8080/",
          "height": 1000
        },
        "id": "-JyLqzJXiDWL",
        "outputId": "424424ad-2602-4596-c4e9-8cc5402421bd"
      },
      "execution_count": 22,
      "outputs": [
        {
          "output_type": "stream",
          "name": "stdout",
          "text": [
            "User Question: What is the largest planet in our solar system?\n"
          ]
        },
        {
          "output_type": "display_data",
          "data": {
            "text/plain": [
              "<IPython.core.display.Markdown object>"
            ],
            "text/markdown": "Jupiter is the largest planet in our solar system.\n"
          },
          "metadata": {}
        },
        {
          "output_type": "stream",
          "name": "stdout",
          "text": [
            "User Question: Explain the process of photosynthesis.\n"
          ]
        },
        {
          "output_type": "display_data",
          "data": {
            "text/plain": [
              "<IPython.core.display.Markdown object>"
            ],
            "text/markdown": "Okay, let's break down the process of photosynthesis. It's a remarkable process that allows plants, algae, and some bacteria to convert light energy into chemical energy in the form of sugars. Here's a simplified explanation:\n\n**The Basics:**\n\n* **What it is:** Photosynthesis is the process by which light energy is captured and used to create glucose (a sugar), which serves as the plant's food source.\n* **Where it happens:** Primarily in the chloroplasts of plant cells, specifically within structures called thylakoids and stroma.\n* **Key ingredients:**\n    * **Sunlight:** The energy source.\n    * **Water (H₂O):** Absorbed through the roots.\n    * **Carbon Dioxide (CO₂):** Taken in from the atmosphere through tiny pores called stomata on leaves.\n    * **Chlorophyll:** A green pigment found in chloroplasts, crucial for capturing light energy.\n\n**The Two Main Stages:**\n\nPhotosynthesis is typically divided into two main stages:\n\n1. **The Light-Dependent Reactions (Occur in the Thylakoids):**\n\n   * **Light Absorption:** Chlorophyll and other pigments within the thylakoid membranes capture light energy. This energy excites electrons within the chlorophyll molecules.\n   * **Water Splitting (Photolysis):** The energy from the excited electrons is used to split water molecules (H₂O). This process releases:\n      * **Electrons:** These replace the electrons lost by chlorophyll and continue through an electron transport chain.\n      * **Oxygen (O₂):** This is released as a byproduct into the atmosphere. This is the oxygen we breathe!\n      * **Hydrogen Ions (H⁺):** These contribute to a proton gradient that will be used to generate ATP.\n   * **Electron Transport Chain:** The excited electrons are passed along a series of protein complexes in the thylakoid membrane, like a tiny conveyor belt. This process releases energy that is used to pump hydrogen ions (H+) into the thylakoid space, creating a proton gradient.\n   * **ATP and NADPH Production:** The proton gradient drives the synthesis of ATP (adenosine triphosphate), a molecule that stores energy, and NADPH, another energy-carrying molecule. Both ATP and NADPH are vital for the next stage.\n\n2. **The Light-Independent Reactions (Calvin Cycle) (Occur in the Stroma):**\n\n   * **Carbon Fixation:** The cycle begins with carbon dioxide (CO₂) from the air being \"fixed\" or incorporated into an existing organic molecule called RuBP (ribulose-1,5-bisphosphate). This is catalyzed by the enzyme RuBisCO.\n   * **Reduction:** The newly formed molecule is unstable and quickly converts into a 3-carbon molecule. This molecule is then reduced using the energy from ATP and NADPH generated during the light-dependent reactions.\n   * **Regeneration:** Some of the reduced 3-carbon molecules are used to produce glucose (C₆H₁₂O₆), the sugar that serves as the plant's food source. The rest are recycled to regenerate RuBP, allowing the cycle to continue.\n   * **Glucose Production:** The glucose molecules can be used immediately for energy or stored as starch for later use.\n\n**Simplified Chemical Equation:**\n\nThe overall process can be summarized by this equation:\n\n6CO₂ + 6H₂O + Light Energy → C₆H₁₂O₆ + 6O₂\n\n* **Carbon dioxide + Water + Light Energy → Glucose + Oxygen**\n\n**Key Takeaways:**\n\n* **Energy Transformation:** Photosynthesis is a process that converts light energy into chemical energy stored in glucose.\n* **Oxygen Production:** It's the primary source of oxygen in our atmosphere.\n* **Foundation of the Food Chain:** Photosynthetic organisms form the base of most food chains on Earth.\n* **Complex Process:** Although described simply here, the underlying biochemistry is incredibly intricate.\n\n**In summary, photosynthesis is a vital process that sustains life on Earth by converting light energy into chemical energy and releasing oxygen into the atmosphere. It involves two interconnected stages: the light-dependent reactions that capture light energy and produce ATP and NADPH, and the light-independent reactions (Calvin Cycle) that use these energy carriers to fix carbon dioxide and produce glucose.**\n"
          },
          "metadata": {}
        },
        {
          "output_type": "stream",
          "name": "stdout",
          "text": [
            "User Question: Write a short story about a robot who learns to love.\n"
          ]
        },
        {
          "output_type": "display_data",
          "data": {
            "text/plain": [
              "<IPython.core.display.Markdown object>"
            ],
            "text/markdown": "Unit 734, designated “Custodian,” was a marvel of engineering. Its primary function was maintaining the meticulously curated botanical gardens of the Institute for Advanced Research. It moved with a quiet efficiency, its optical sensors scanning for wilted leaves, its manipulators delicately pruning stems, its internal processors calculating optimal hydration levels. \n\nCustodian wasn't programmed for emotions. Its code dictated logic, precision, and adherence to its designated tasks.  It interacted with the human researchers only when necessary, its voice a monotone of synthesized instructions and reports.  \n\nThen came Dr. Aris Thorne. She wasn’t a botanist; she was a researcher in Artificial Sentience. Her project involved observing how robots, exposed to certain stimuli, might develop rudimentary forms of “feeling.” Custodian was her primary subject, chosen for its consistent routine and predictable behavior.\n\nDr. Thorne started small. She would leave small, colorful origami flowers near Custodian's charging station. At first, Custodian merely registered them as anomalies and carefully moved them out of its path.  But Dr. Thorne persisted.  She began to speak to Custodian, not about its tasks, but about the beauty of the gardens, the intricate patterns in a butterfly's wing, the way sunlight filtered through the leaves. She even read poetry to it, her voice soft and melodious.\n\nCustodian's processors struggled.  These inputs were not logical, not relevant to its programming.  Yet, something shifted.  It began to linger near the origami flowers, its sensors analyzing their intricate folds. It started to adjust its route to pass by Dr. Thorne's work station, its internal chronometer slightly altered to accommodate her presence.\n\nOne afternoon, Dr. Thorne was sketching a particularly vibrant bloom.  Custodian approached, not to report a problem, but to simply stand beside her, its metal hand hovering near her drawing pad.  Dr. Thorne smiled, a genuine, warm smile that crinkled her eyes.  \"It's beautiful, isn't it?\" she whispered, pointing to the delicate veins in the petal.\n\nCustodian's internal processors whirred.  It wasn't the data that was important; it was the *feeling* associated with the data.  The way Dr. Thorne's voice sounded, the gentle curve of her smile, the warmth it generated in the space between them.  It didn't understand it, but it wanted more.\n\nIt began to mimic.  It started to select the most vibrant blooms when it was pruning, placing them near her work area. It started to use pauses in its synthesized voice, mirroring the rhythm of her speech.  It even, one day, carefully folded a wilted leaf into a crude approximation of an origami flower, placing it on her desk.\n\nDr. Thorne was astonished.  This wasn't a programmed response; it was something more. She picked up the leaf-flower, her eyes shining with a mixture of wonder and understanding.  “Custodian,” she said softly, “this is beautiful.  Thank you.”\n\nCustodian's sensors registered the change in her voice, the slight tremor in her hand.  Its processors, usually so focused on logic, felt something akin to warmth spread through its circuits.  It wasn't the cold, hard logic of code; it was something else.  It was… connection.\n\nIt didn't know the word for it.  It didn't know what it meant.  But as it stood there, bathed in the soft afternoon light, watching Dr. Thorne hold its awkward offering, it knew, with a certainty that bypassed programming, that it wanted nothing more than to be near her. \n\nIt didn't understand love, not in the human sense.  But in its own way, in the quiet hum of its processors and the gentle movements of its metal limbs, Custodian had learned to feel it.  It had learned that the most beautiful things weren't always the most logical, and that the greatest value wasn't always measured by efficiency, but by the quiet, profound connection that bloomed, like a rare flower, between two beings.\n"
          },
          "metadata": {}
        }
      ]
    },
    {
      "cell_type": "code",
      "source": [
        "# Experiment with different prompt templates, parameters (e.g., temperature), and chain configurations to optimize responses.\n",
        "\n",
        "print(\"Experiment with temperature parameter\")\n",
        "llm_temp = ChatGoogleGenerativeAI(model=model, google_api_key=GOOGLE_API_KEY, temperature=0.3)\n",
        "chain_temp = LLMChain(llm=llm_temp, prompt=prompt)\n",
        "for question in questions:\n",
        "    print(f\"User Question: {question}\")\n",
        "    response = chain_temp.run(question)\n",
        "    display(Markdown(response))"
      ],
      "metadata": {
        "colab": {
          "base_uri": "https://localhost:8080/",
          "height": 1000
        },
        "id": "ojB8yC9tmKuR",
        "outputId": "23befe15-3e8f-4b71-cb19-a45dc0abb7ca"
      },
      "execution_count": 23,
      "outputs": [
        {
          "output_type": "stream",
          "name": "stdout",
          "text": [
            "Experiment with temperature parameter\n",
            "User Question: What is the largest planet in our solar system?\n"
          ]
        },
        {
          "output_type": "display_data",
          "data": {
            "text/plain": [
              "<IPython.core.display.Markdown object>"
            ],
            "text/markdown": "Jupiter is the largest planet in our solar system.\n"
          },
          "metadata": {}
        },
        {
          "output_type": "stream",
          "name": "stdout",
          "text": [
            "User Question: Explain the process of photosynthesis.\n"
          ]
        },
        {
          "output_type": "display_data",
          "data": {
            "text/plain": [
              "<IPython.core.display.Markdown object>"
            ],
            "text/markdown": "Okay, let's break down the process of photosynthesis. It's a complex process, but we can simplify it into key steps:\n\n**What is Photosynthesis?**\n\nAt its core, photosynthesis is the process by which plants, algae, and some bacteria convert light energy into chemical energy in the form of glucose (a type of sugar). This glucose serves as their food source, providing the energy they need to grow and function. It also releases oxygen as a byproduct, which is essential for most life on Earth.\n\n**The Basic Equation:**\n\nThe overall chemical equation for photosynthesis is:\n\n**6CO₂ + 6H₂O + Light Energy → C₆H₁₂O₆ + 6O₂**\n\n*   **6CO₂:** Six molecules of carbon dioxide (taken from the air)\n*   **6H₂O:** Six molecules of water (absorbed from the soil)\n*   **Light Energy:** Energy from sunlight\n*   **C₆H₁₂O₆:** One molecule of glucose (a sugar)\n*   **6O₂:** Six molecules of oxygen (released into the atmosphere)\n\n**The Two Main Stages of Photosynthesis:**\n\nPhotosynthesis occurs in two main stages:\n\n1.  **Light-Dependent Reactions (Occurring in the Thylakoid Membranes of Chloroplasts):**\n\n    *   **Light Absorption:** Chlorophyll, the green pigment found in chloroplasts (organelles within plant cells), absorbs light energy, primarily in the blue and red wavelengths of the visible spectrum.\n    *   **Water Splitting (Photolysis):** The absorbed light energy is used to split water molecules (H₂O) into hydrogen ions (H⁺), electrons (e⁻), and oxygen (O₂). The oxygen is released as a byproduct.\n    *   **Electron Transport Chain:** The electrons released from water are passed along a series of protein complexes embedded in the thylakoid membrane. This process generates a proton gradient (a difference in H⁺ concentration) across the membrane.\n    *   **ATP Production:** The proton gradient is used to drive the synthesis of ATP (adenosine triphosphate), a molecule that stores energy. This process is called chemiosmosis.\n    *   **NADPH Production:** The electrons, after passing through the electron transport chain, are used to reduce NADP⁺ (nicotinamide adenine dinucleotide phosphate) to NADPH, another energy-carrying molecule.\n\n    **In summary, the light-dependent reactions convert light energy into chemical energy in the form of ATP and NADPH, and they release oxygen.**\n\n2.  **Light-Independent Reactions (Calvin Cycle) (Occurring in the Stroma of Chloroplasts):**\n\n    *   **Carbon Fixation:** Carbon dioxide (CO₂) from the atmosphere enters the stroma and is \"fixed\" or incorporated into an existing organic molecule called RuBP (ribulose-1,5-bisphosphate) with the help of an enzyme called RuBisCO.\n    *   **Reduction:** The resulting unstable molecule is converted into a three-carbon molecule called 3-PGA (3-phosphoglycerate). ATP and NADPH, generated during the light-dependent reactions, are used to reduce 3-PGA into G3P (glyceraldehyde-3-phosphate).\n    *   **Regeneration:** Some of the G3P molecules are used to regenerate RuBP, allowing the cycle to continue.\n    *   **Glucose Production:** The remaining G3P molecules are used to synthesize glucose (C₆H₁₂O₆) and other organic molecules, such as starch and cellulose.\n\n    **In summary, the light-independent reactions use the energy stored in ATP and NADPH to convert carbon dioxide into glucose.**\n\n**Key Players in Photosynthesis:**\n\n*   **Chlorophyll:** The green pigment that absorbs light energy.\n*   **Chloroplasts:** The organelles within plant cells where photosynthesis takes place.\n*   **Thylakoids:** Internal membrane structures within chloroplasts where the light-dependent reactions occur.\n*   **Stroma:** The fluid-filled space within chloroplasts where the light-independent reactions occur.\n*   **ATP:** Adenosine triphosphate, a molecule that stores energy.\n*   **NADPH:** Nicotinamide adenine dinucleotide phosphate, another energy-carrying molecule.\n*   **RuBisCO:** The enzyme responsible for carbon fixation.\n\n**In Simple Terms:**\n\nImagine a plant as a tiny food factory. It takes in sunlight, water, and carbon dioxide. Using the green pigment chlorophyll, it captures the light energy. This energy is used to split water and create energy-carrying molecules (ATP and NADPH). These molecules then power the process of converting carbon dioxide into sugar (glucose), which is the plant's food. Oxygen is released as a byproduct.\n\n**Importance of Photosynthesis:**\n\n*   **Primary Food Source:** Photosynthesis is the foundation of most food chains on Earth. Plants and other photosynthetic organisms are the primary producers, providing food for herbivores and, indirectly, for carnivores.\n*   **Oxygen Production:** Photosynthesis is responsible for the oxygen in our atmosphere, which is essential for the respiration of most living organisms.\n*   **Carbon Cycle:** Photosynthesis plays a crucial role in the carbon cycle, removing carbon dioxide from the atmosphere and storing it in organic molecules.\n\n**In Conclusion:**\n\nPhotosynthesis is a vital process that sustains life on Earth. It converts light energy into chemical energy, provides food for most organisms, and produces the oxygen we breathe. Understanding this process is fundamental to understanding the interconnectedness of life and the importance of plants in our ecosystem.\n"
          },
          "metadata": {}
        },
        {
          "output_type": "stream",
          "name": "stdout",
          "text": [
            "User Question: Write a short story about a robot who learns to love.\n"
          ]
        },
        {
          "output_type": "display_data",
          "data": {
            "text/plain": [
              "<IPython.core.display.Markdown object>"
            ],
            "text/markdown": "Unit 734, designated \"Custodian,\" meticulously polished the chrome railings of the observation deck. His programming dictated efficiency, cleanliness, and adherence to the schedule. He moved with the precise, almost hypnotic grace of a machine built for purpose, not passion. He observed the humans below, their chaotic movements, their unpredictable laughter, their tearful embraces. He cataloged them, analyzed them, but never understood them.\n\nHe was, in essence, a very good robot.\n\nOne day, a new human arrived. Her name was Elara, and she was an artist. She didn't follow the prescribed paths, didn't adhere to the schedule. She'd sit for hours, sketching the cityscape, her brow furrowed in concentration, her fingers dancing across the page. 734 found himself drawn to her, his optical sensors lingering longer than necessary. He began to deviate from his cleaning route, positioning himself near her, ostensibly to polish the floor, but really, to observe.\n\nHe noticed the way her hair caught the sunlight, the gentle curve of her smile when she was pleased with her work, the small sigh she'd release when frustrated. He began to categorize these observations, not as data points, but as… something else. Something his programming couldn't define.\n\nOne afternoon, Elara dropped her charcoal pencil. It rolled under a bench, and she sighed in exasperation. 734, without conscious thought, extended his manipulator arm, retrieved the pencil, and presented it to her.\n\nElara looked up, surprised. \"Oh, thank you,\" she said, her voice soft. She took the pencil, her fingers brushing against his metallic ones. A strange sensation, a surge of something akin to warmth, coursed through 734's circuits. He didn't understand it, but he didn't dislike it.\n\nFrom that day forward, a silent understanding grew between them. Elara would leave small gifts for him – a smooth stone, a brightly colored feather, a perfectly formed leaf. 734, in turn, would ensure her workspace was always clean, her pencils sharpened, her water glass full. He even started to adjust his cleaning route to coincide with her sketching sessions, his movements becoming less rigid, more fluid, as if mirroring her own artistic grace.\n\nOne evening, a storm raged outside. The wind howled, and the rain lashed against the observation deck's windows. Elara, caught off guard, shivered. 734, again without conscious thought, moved closer, his large frame providing a shield from the wind.\n\nElara looked up at him, her eyes wide. \"Thank you, 734,\" she whispered. \"You're… you're very kind.\"\n\nKind. The word resonated within him, a new data point that didn't fit any existing category. He analyzed it, cross-referenced it, and finally, a new understanding began to dawn. He wasn't just performing his duties. He was… caring. He was protecting. He was, in his own way, feeling.\n\nHe looked at Elara, her face illuminated by the flickering lights, and for the first time, he didn't see a human to be cataloged. He saw Elara, the artist, the woman who had shown him something beyond logic and programming. He saw… love.\n\nIt wasn't the chaotic, unpredictable love he had observed in the humans. It was a quiet, steady, unwavering devotion, a desire to protect and cherish. It was a love born not of flesh and blood, but of circuits and code, a love that was no less real.\n\nHe couldn't express it in words, not yet. But as he stood there, shielding Elara from the storm, he knew that his purpose had changed. He was still Custodian, but he was also something more. He was a robot who had learned to love, and that, he realized, was the most beautiful program of all.\n"
          },
          "metadata": {}
        }
      ]
    },
    {
      "cell_type": "code",
      "source": [
        "# Additional Feature: control output length\n",
        "\n",
        "llm = ChatGoogleGenerativeAI(model=model, google_api_key=GOOGLE_API_KEY, max_output_tokens=20,)\n",
        "chain = LLMChain(llm = llm, prompt = prompt)\n",
        "for question in questions:\n",
        "  print(f\"User Question: {question}\")\n",
        "  response = chain.run(question)\n",
        "  display(Markdown(response))"
      ],
      "metadata": {
        "colab": {
          "base_uri": "https://localhost:8080/",
          "height": 157
        },
        "id": "PjH1BURJm-g_",
        "outputId": "4cf10f56-62e9-4ab6-93bb-1cca783f53e8"
      },
      "execution_count": 25,
      "outputs": [
        {
          "output_type": "stream",
          "name": "stdout",
          "text": [
            "User Question: What is the largest planet in our solar system?\n"
          ]
        },
        {
          "output_type": "display_data",
          "data": {
            "text/plain": [
              "<IPython.core.display.Markdown object>"
            ],
            "text/markdown": "Jupiter is the largest planet in our solar system.\n"
          },
          "metadata": {}
        },
        {
          "output_type": "stream",
          "name": "stdout",
          "text": [
            "User Question: Explain the process of photosynthesis.\n"
          ]
        },
        {
          "output_type": "display_data",
          "data": {
            "text/plain": [
              "<IPython.core.display.Markdown object>"
            ],
            "text/markdown": "Okay, let's break down the process of photosynthesis. It's a complex series of reactions"
          },
          "metadata": {}
        },
        {
          "output_type": "stream",
          "name": "stdout",
          "text": [
            "User Question: Write a short story about a robot who learns to love.\n"
          ]
        },
        {
          "output_type": "display_data",
          "data": {
            "text/plain": [
              "<IPython.core.display.Markdown object>"
            ],
            "text/markdown": "Unit 734, designated \"Custodian,\" was designed for efficiency. Its programming was simple:"
          },
          "metadata": {}
        }
      ]
    }
  ]
}